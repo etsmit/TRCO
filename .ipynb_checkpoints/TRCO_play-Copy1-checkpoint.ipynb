{
 "cells": [
  {
   "cell_type": "code",
   "execution_count": 21,
   "id": "31ad52b9",
   "metadata": {},
   "outputs": [],
   "source": [
    "import numpy as np\n",
    "\n",
    "from astropy.io import fits\n",
    "import astropy\n",
    "\n",
    "from dysh.fits.gbtfitsload import GBTFITSLoad\n",
    "\n",
    "import dysh\n",
    "\n",
    "from astropy import units as u\n",
    "import matplotlib.pyplot as plt\n",
    "%matplotlib qt"
   ]
  },
  {
   "cell_type": "code",
   "execution_count": 65,
   "id": "ca77c46d",
   "metadata": {},
   "outputs": [],
   "source": [
    "exec(open('./TRCO_support.py').read())\n",
    "#exec(open('./calibrators.py').read())\n"
   ]
  },
  {
   "cell_type": "code",
   "execution_count": 3,
   "id": "6b5ef81e",
   "metadata": {},
   "outputs": [
    {
     "name": "stderr",
     "output_type": "stream",
     "text": [
      "WARNING: UnitsWarning: 'mmHg' did not parse as fits unit: At col 0, Unit 'mmHg' not supported by the FITS standard.  If this is meant to be a custom unit, define it with 'u.def_unit'. To have it recognized inside a file reader or other code, enable it with 'u.add_enabled_units'. For details, see https://docs.astropy.org/en/latest/units/combining_and_defining.html [astropy.units.core]\n",
      "WARNING: UnitsWarning: 'UTC' did not parse as fits unit: At col 0, Unit 'UTC' not supported by the FITS standard. Did you mean TC, uC or uT? If this is meant to be a custom unit, define it with 'u.def_unit'. To have it recognized inside a file reader or other code, enable it with 'u.add_enabled_units'. For details, see https://docs.astropy.org/en/latest/units/combining_and_defining.html [astropy.units.core]\n",
      "WARNING: UnitsWarning: 'mmHg' did not parse as fits unit: At col 0, Unit 'mmHg' not supported by the FITS standard.  If this is meant to be a custom unit, define it with 'u.def_unit'. To have it recognized inside a file reader or other code, enable it with 'u.add_enabled_units'. For details, see https://docs.astropy.org/en/latest/units/combining_and_defining.html [astropy.units.core]\n",
      "WARNING: UnitsWarning: 'UTC' did not parse as fits unit: At col 0, Unit 'UTC' not supported by the FITS standard. Did you mean TC, uC or uT? If this is meant to be a custom unit, define it with 'u.def_unit'. To have it recognized inside a file reader or other code, enable it with 'u.add_enabled_units'. For details, see https://docs.astropy.org/en/latest/units/combining_and_defining.html [astropy.units.core]\n"
     ]
    }
   ],
   "source": [
    "data_dir = '../DySH/data/TRCO_230718_C/TRCO_230718_C.raw.vegas/'\n",
    "\n",
    "sdfA_fname = 'TRCO_230718_C.raw.vegas.A.fits'\n",
    "sdfB_fname = 'TRCO_230718_C.raw.vegas.B.fits'\n",
    "\n",
    "sdfA = GBTFITSLoad(data_dir+sdfA_fname)\n",
    "sdfB = GBTFITSLoad(data_dir+sdfB_fname)"
   ]
  },
  {
   "cell_type": "code",
   "execution_count": 9,
   "id": "78c6f459",
   "metadata": {},
   "outputs": [
    {
     "name": "stdout",
     "output_type": "stream",
     "text": [
      "TPSCAN nrows = 24\n"
     ]
    }
   ],
   "source": [
    "uhh  = sdfA.gettp(10)"
   ]
  },
  {
   "cell_type": "code",
   "execution_count": 60,
   "id": "08743416",
   "metadata": {},
   "outputs": [
    {
     "data": {
      "text/plain": [
       "dysh.spectra.scan.GBTTPScan"
      ]
     },
     "execution_count": 60,
     "metadata": {},
     "output_type": "execute_result"
    }
   ],
   "source": [
    "type(uhh)"
   ]
  },
  {
   "cell_type": "code",
   "execution_count": 112,
   "id": "48c17229",
   "metadata": {},
   "outputs": [
    {
     "data": {
      "text/plain": [
       "dysh.fits.gbtfitsload.GBTFITSLoad"
      ]
     },
     "execution_count": 112,
     "metadata": {},
     "output_type": "execute_result"
    }
   ],
   "source": [
    "type(sdfA)"
   ]
  },
  {
   "cell_type": "code",
   "execution_count": 4,
   "id": "8e774ee9",
   "metadata": {
    "scrolled": true
   },
   "outputs": [
    {
     "data": {
      "text/html": [
       "<div>\n",
       "<style scoped>\n",
       "    .dataframe tbody tr th:only-of-type {\n",
       "        vertical-align: middle;\n",
       "    }\n",
       "\n",
       "    .dataframe tbody tr th {\n",
       "        vertical-align: top;\n",
       "    }\n",
       "\n",
       "    .dataframe thead th {\n",
       "        text-align: right;\n",
       "    }\n",
       "</style>\n",
       "<table border=\"1\" class=\"dataframe\">\n",
       "  <thead>\n",
       "    <tr style=\"text-align: right;\">\n",
       "      <th></th>\n",
       "      <th>SCAN</th>\n",
       "      <th>OBJECT</th>\n",
       "      <th>VELOCITY</th>\n",
       "      <th>PROC</th>\n",
       "      <th>PROCSEQN</th>\n",
       "      <th>RESTFREQ</th>\n",
       "      <th>DOPFREQ</th>\n",
       "      <th># IF</th>\n",
       "      <th># POL</th>\n",
       "      <th># INT</th>\n",
       "      <th># FEED</th>\n",
       "      <th>AZIMUTH</th>\n",
       "      <th>ELEVATIO</th>\n",
       "    </tr>\n",
       "  </thead>\n",
       "  <tbody>\n",
       "    <tr>\n",
       "      <th>0</th>\n",
       "      <td>1.0</td>\n",
       "      <td>3C286</td>\n",
       "      <td>0.0</td>\n",
       "      <td>OffOn</td>\n",
       "      <td>1.0</td>\n",
       "      <td>4.35</td>\n",
       "      <td>4.35</td>\n",
       "      <td>1</td>\n",
       "      <td>2</td>\n",
       "      <td>12</td>\n",
       "      <td>1</td>\n",
       "      <td>108.283023</td>\n",
       "      <td>70.769114</td>\n",
       "    </tr>\n",
       "    <tr>\n",
       "      <th>1</th>\n",
       "      <td>2.0</td>\n",
       "      <td>3C286</td>\n",
       "      <td>0.0</td>\n",
       "      <td>OffOn</td>\n",
       "      <td>2.0</td>\n",
       "      <td>4.35</td>\n",
       "      <td>4.35</td>\n",
       "      <td>1</td>\n",
       "      <td>2</td>\n",
       "      <td>8</td>\n",
       "      <td>1</td>\n",
       "      <td>110.309927</td>\n",
       "      <td>71.847624</td>\n",
       "    </tr>\n",
       "    <tr>\n",
       "      <th>2</th>\n",
       "      <td>3.0</td>\n",
       "      <td>3C286</td>\n",
       "      <td>0.0</td>\n",
       "      <td>OffOn</td>\n",
       "      <td>1.0</td>\n",
       "      <td>4.35</td>\n",
       "      <td>4.35</td>\n",
       "      <td>1</td>\n",
       "      <td>2</td>\n",
       "      <td>12</td>\n",
       "      <td>1</td>\n",
       "      <td>109.30294</td>\n",
       "      <td>71.3266</td>\n",
       "    </tr>\n",
       "    <tr>\n",
       "      <th>3</th>\n",
       "      <td>4.0</td>\n",
       "      <td>3C286</td>\n",
       "      <td>0.0</td>\n",
       "      <td>OffOn</td>\n",
       "      <td>2.0</td>\n",
       "      <td>4.35</td>\n",
       "      <td>4.35</td>\n",
       "      <td>1</td>\n",
       "      <td>2</td>\n",
       "      <td>7</td>\n",
       "      <td>1</td>\n",
       "      <td>111.411977</td>\n",
       "      <td>72.390333</td>\n",
       "    </tr>\n",
       "    <tr>\n",
       "      <th>4</th>\n",
       "      <td>10.0</td>\n",
       "      <td>3C286</td>\n",
       "      <td>0.0</td>\n",
       "      <td>OffOn</td>\n",
       "      <td>1.0</td>\n",
       "      <td>4.35</td>\n",
       "      <td>4.35</td>\n",
       "      <td>1</td>\n",
       "      <td>2</td>\n",
       "      <td>12</td>\n",
       "      <td>1</td>\n",
       "      <td>112.603708</td>\n",
       "      <td>72.94627</td>\n",
       "    </tr>\n",
       "    <tr>\n",
       "      <th>5</th>\n",
       "      <td>11.0</td>\n",
       "      <td>3C286</td>\n",
       "      <td>0.0</td>\n",
       "      <td>OffOn</td>\n",
       "      <td>2.0</td>\n",
       "      <td>4.35</td>\n",
       "      <td>4.35</td>\n",
       "      <td>1</td>\n",
       "      <td>2</td>\n",
       "      <td>12</td>\n",
       "      <td>1</td>\n",
       "      <td>115.153047</td>\n",
       "      <td>74.024096</td>\n",
       "    </tr>\n",
       "    <tr>\n",
       "      <th>6</th>\n",
       "      <td>12.0</td>\n",
       "      <td>3C286</td>\n",
       "      <td>0.0</td>\n",
       "      <td>OffOn</td>\n",
       "      <td>1.0</td>\n",
       "      <td>4.35</td>\n",
       "      <td>4.35</td>\n",
       "      <td>1</td>\n",
       "      <td>2</td>\n",
       "      <td>12</td>\n",
       "      <td>1</td>\n",
       "      <td>113.862345</td>\n",
       "      <td>73.49649</td>\n",
       "    </tr>\n",
       "    <tr>\n",
       "      <th>7</th>\n",
       "      <td>13.0</td>\n",
       "      <td>3C286</td>\n",
       "      <td>0.0</td>\n",
       "      <td>OffOn</td>\n",
       "      <td>2.0</td>\n",
       "      <td>4.35</td>\n",
       "      <td>4.35</td>\n",
       "      <td>1</td>\n",
       "      <td>2</td>\n",
       "      <td>12</td>\n",
       "      <td>1</td>\n",
       "      <td>116.572636</td>\n",
       "      <td>74.568783</td>\n",
       "    </tr>\n",
       "    <tr>\n",
       "      <th>8</th>\n",
       "      <td>14.0</td>\n",
       "      <td>3C286</td>\n",
       "      <td>0.0</td>\n",
       "      <td>OffOn</td>\n",
       "      <td>1.0</td>\n",
       "      <td>4.35</td>\n",
       "      <td>4.35</td>\n",
       "      <td>1</td>\n",
       "      <td>2</td>\n",
       "      <td>12</td>\n",
       "      <td>1</td>\n",
       "      <td>115.21379</td>\n",
       "      <td>74.050046</td>\n",
       "    </tr>\n",
       "    <tr>\n",
       "      <th>9</th>\n",
       "      <td>15.0</td>\n",
       "      <td>3C286</td>\n",
       "      <td>0.0</td>\n",
       "      <td>OffOn</td>\n",
       "      <td>2.0</td>\n",
       "      <td>4.35</td>\n",
       "      <td>4.35</td>\n",
       "      <td>1</td>\n",
       "      <td>2</td>\n",
       "      <td>12</td>\n",
       "      <td>1</td>\n",
       "      <td>118.086844</td>\n",
       "      <td>75.109403</td>\n",
       "    </tr>\n",
       "    <tr>\n",
       "      <th>10</th>\n",
       "      <td>16.0</td>\n",
       "      <td>3C286</td>\n",
       "      <td>0.0</td>\n",
       "      <td>OffOn</td>\n",
       "      <td>1.0</td>\n",
       "      <td>4.35</td>\n",
       "      <td>4.35</td>\n",
       "      <td>1</td>\n",
       "      <td>2</td>\n",
       "      <td>12</td>\n",
       "      <td>1</td>\n",
       "      <td>116.637068</td>\n",
       "      <td>74.594465</td>\n",
       "    </tr>\n",
       "    <tr>\n",
       "      <th>11</th>\n",
       "      <td>17.0</td>\n",
       "      <td>3C286</td>\n",
       "      <td>0.0</td>\n",
       "      <td>OffOn</td>\n",
       "      <td>2.0</td>\n",
       "      <td>4.35</td>\n",
       "      <td>4.35</td>\n",
       "      <td>1</td>\n",
       "      <td>2</td>\n",
       "      <td>12</td>\n",
       "      <td>1</td>\n",
       "      <td>119.687721</td>\n",
       "      <td>75.639398</td>\n",
       "    </tr>\n",
       "    <tr>\n",
       "      <th>12</th>\n",
       "      <td>18.0</td>\n",
       "      <td>3C286</td>\n",
       "      <td>0.0</td>\n",
       "      <td>OffOn</td>\n",
       "      <td>1.0</td>\n",
       "      <td>6.55</td>\n",
       "      <td>6.55</td>\n",
       "      <td>1</td>\n",
       "      <td>2</td>\n",
       "      <td>12</td>\n",
       "      <td>1</td>\n",
       "      <td>118.146965</td>\n",
       "      <td>75.131879</td>\n",
       "    </tr>\n",
       "    <tr>\n",
       "      <th>13</th>\n",
       "      <td>19.0</td>\n",
       "      <td>3C286</td>\n",
       "      <td>0.0</td>\n",
       "      <td>OffOn</td>\n",
       "      <td>2.0</td>\n",
       "      <td>6.55</td>\n",
       "      <td>6.55</td>\n",
       "      <td>1</td>\n",
       "      <td>2</td>\n",
       "      <td>12</td>\n",
       "      <td>1</td>\n",
       "      <td>121.402424</td>\n",
       "      <td>76.163518</td>\n",
       "    </tr>\n",
       "    <tr>\n",
       "      <th>14</th>\n",
       "      <td>20.0</td>\n",
       "      <td>3C286</td>\n",
       "      <td>0.0</td>\n",
       "      <td>OffOn</td>\n",
       "      <td>1.0</td>\n",
       "      <td>6.55</td>\n",
       "      <td>6.55</td>\n",
       "      <td>1</td>\n",
       "      <td>2</td>\n",
       "      <td>12</td>\n",
       "      <td>1</td>\n",
       "      <td>119.7607</td>\n",
       "      <td>75.664393</td>\n",
       "    </tr>\n",
       "    <tr>\n",
       "      <th>15</th>\n",
       "      <td>21.0</td>\n",
       "      <td>3C286</td>\n",
       "      <td>0.0</td>\n",
       "      <td>OffOn</td>\n",
       "      <td>2.0</td>\n",
       "      <td>6.55</td>\n",
       "      <td>6.55</td>\n",
       "      <td>1</td>\n",
       "      <td>2</td>\n",
       "      <td>12</td>\n",
       "      <td>1</td>\n",
       "      <td>123.232476</td>\n",
       "      <td>76.677841</td>\n",
       "    </tr>\n",
       "    <tr>\n",
       "      <th>16</th>\n",
       "      <td>22.0</td>\n",
       "      <td>3C286</td>\n",
       "      <td>0.0</td>\n",
       "      <td>OffOn</td>\n",
       "      <td>1.0</td>\n",
       "      <td>6.55</td>\n",
       "      <td>6.55</td>\n",
       "      <td>1</td>\n",
       "      <td>2</td>\n",
       "      <td>12</td>\n",
       "      <td>1</td>\n",
       "      <td>121.489995</td>\n",
       "      <td>76.190905</td>\n",
       "    </tr>\n",
       "    <tr>\n",
       "      <th>17</th>\n",
       "      <td>23.0</td>\n",
       "      <td>3C286</td>\n",
       "      <td>0.0</td>\n",
       "      <td>OffOn</td>\n",
       "      <td>2.0</td>\n",
       "      <td>6.55</td>\n",
       "      <td>6.55</td>\n",
       "      <td>1</td>\n",
       "      <td>2</td>\n",
       "      <td>12</td>\n",
       "      <td>1</td>\n",
       "      <td>125.211098</td>\n",
       "      <td>77.186511</td>\n",
       "    </tr>\n",
       "    <tr>\n",
       "      <th>18</th>\n",
       "      <td>24.0</td>\n",
       "      <td>3C286</td>\n",
       "      <td>0.0</td>\n",
       "      <td>OffOn</td>\n",
       "      <td>1.0</td>\n",
       "      <td>6.55</td>\n",
       "      <td>6.55</td>\n",
       "      <td>1</td>\n",
       "      <td>2</td>\n",
       "      <td>12</td>\n",
       "      <td>1</td>\n",
       "      <td>123.35665</td>\n",
       "      <td>76.712971</td>\n",
       "    </tr>\n",
       "    <tr>\n",
       "      <th>19</th>\n",
       "      <td>25.0</td>\n",
       "      <td>3C286</td>\n",
       "      <td>0.0</td>\n",
       "      <td>OffOn</td>\n",
       "      <td>2.0</td>\n",
       "      <td>6.55</td>\n",
       "      <td>6.55</td>\n",
       "      <td>1</td>\n",
       "      <td>2</td>\n",
       "      <td>12</td>\n",
       "      <td>1</td>\n",
       "      <td>127.355377</td>\n",
       "      <td>77.687701</td>\n",
       "    </tr>\n",
       "  </tbody>\n",
       "</table>\n",
       "</div>"
      ],
      "text/plain": [
       "    SCAN OBJECT VELOCITY   PROC PROCSEQN RESTFREQ DOPFREQ # IF # POL # INT  \\\n",
       "0    1.0  3C286      0.0  OffOn      1.0     4.35    4.35    1     2    12   \n",
       "1    2.0  3C286      0.0  OffOn      2.0     4.35    4.35    1     2     8   \n",
       "2    3.0  3C286      0.0  OffOn      1.0     4.35    4.35    1     2    12   \n",
       "3    4.0  3C286      0.0  OffOn      2.0     4.35    4.35    1     2     7   \n",
       "4   10.0  3C286      0.0  OffOn      1.0     4.35    4.35    1     2    12   \n",
       "5   11.0  3C286      0.0  OffOn      2.0     4.35    4.35    1     2    12   \n",
       "6   12.0  3C286      0.0  OffOn      1.0     4.35    4.35    1     2    12   \n",
       "7   13.0  3C286      0.0  OffOn      2.0     4.35    4.35    1     2    12   \n",
       "8   14.0  3C286      0.0  OffOn      1.0     4.35    4.35    1     2    12   \n",
       "9   15.0  3C286      0.0  OffOn      2.0     4.35    4.35    1     2    12   \n",
       "10  16.0  3C286      0.0  OffOn      1.0     4.35    4.35    1     2    12   \n",
       "11  17.0  3C286      0.0  OffOn      2.0     4.35    4.35    1     2    12   \n",
       "12  18.0  3C286      0.0  OffOn      1.0     6.55    6.55    1     2    12   \n",
       "13  19.0  3C286      0.0  OffOn      2.0     6.55    6.55    1     2    12   \n",
       "14  20.0  3C286      0.0  OffOn      1.0     6.55    6.55    1     2    12   \n",
       "15  21.0  3C286      0.0  OffOn      2.0     6.55    6.55    1     2    12   \n",
       "16  22.0  3C286      0.0  OffOn      1.0     6.55    6.55    1     2    12   \n",
       "17  23.0  3C286      0.0  OffOn      2.0     6.55    6.55    1     2    12   \n",
       "18  24.0  3C286      0.0  OffOn      1.0     6.55    6.55    1     2    12   \n",
       "19  25.0  3C286      0.0  OffOn      2.0     6.55    6.55    1     2    12   \n",
       "\n",
       "   # FEED     AZIMUTH   ELEVATIO  \n",
       "0       1  108.283023  70.769114  \n",
       "1       1  110.309927  71.847624  \n",
       "2       1   109.30294    71.3266  \n",
       "3       1  111.411977  72.390333  \n",
       "4       1  112.603708   72.94627  \n",
       "5       1  115.153047  74.024096  \n",
       "6       1  113.862345   73.49649  \n",
       "7       1  116.572636  74.568783  \n",
       "8       1   115.21379  74.050046  \n",
       "9       1  118.086844  75.109403  \n",
       "10      1  116.637068  74.594465  \n",
       "11      1  119.687721  75.639398  \n",
       "12      1  118.146965  75.131879  \n",
       "13      1  121.402424  76.163518  \n",
       "14      1    119.7607  75.664393  \n",
       "15      1  123.232476  76.677841  \n",
       "16      1  121.489995  76.190905  \n",
       "17      1  125.211098  77.186511  \n",
       "18      1   123.35665  76.712971  \n",
       "19      1  127.355377  77.687701  "
      ]
     },
     "execution_count": 4,
     "metadata": {},
     "output_type": "execute_result"
    }
   ],
   "source": [
    "sdfAsum = sdfA.summary()\n",
    "sdfAsum\n",
    "#notes: SCAN, PROCSEQN are always going to be ints"
   ]
  },
  {
   "cell_type": "code",
   "execution_count": 5,
   "id": "dd0c4c55",
   "metadata": {},
   "outputs": [],
   "source": [
    "#tcal_calc stuff\n",
    "\n",
    "\n",
    "onscan = 11\n",
    "offscan=10\n",
    "\n",
    "ifnum=0\n",
    "plnum=0\n",
    "fdnum=0\n",
    "\n",
    "fileout = 'garbage.txt'\n",
    "\n"
   ]
  },
  {
   "cell_type": "code",
   "execution_count": 6,
   "id": "49538b2e",
   "metadata": {},
   "outputs": [],
   "source": [
    "#get onsource/offsource, oncal/offcal data\n",
    "\n",
    "\n",
    "onsource_calon_indices = sdfA.calonoff_rows(onscan,ifnum=ifnum,plnum=plnum,fdnum=fdnum)['ON']\n",
    "onsource_calon_chunk = sdfA.rawspectra(0)[onsource_calon_indices]\n",
    "onsource_calon_data = np.mean(onsource_calon_chunk,axis=0)\n",
    "\n",
    "onsource_caloff_indices = sdfA.calonoff_rows(onscan,ifnum=ifnum,plnum=plnum,fdnum=fdnum)['OFF']\n",
    "onsource_caloff_chunk = sdfA.rawspectra(0)[onsource_caloff_indices]\n",
    "onsource_caloff_data = np.mean(onsource_caloff_chunk,axis=0)\n",
    "\n",
    "offsource_calon_indices = sdfA.calonoff_rows(offscan,ifnum=ifnum,plnum=plnum,fdnum=fdnum)['ON']\n",
    "offsource_calon_chunk = sdfA.rawspectra(0)[offsource_calon_indices]\n",
    "offsource_calon_data = np.mean(offsource_calon_chunk,axis=0)\n",
    "\n",
    "offsource_caloff_indices = sdfA.calonoff_rows(offscan,ifnum=ifnum,plnum=plnum,fdnum=fdnum)['OFF']\n",
    "offsource_caloff_chunk = sdfA.rawspectra(0)[offsource_caloff_indices]\n",
    "offsource_caloff_data = np.mean(offsource_caloff_chunk,axis=0)\n",
    "\n",
    "\n",
    "# onsource_caloff_data.plot()\n",
    "# onsource_calon_data.plot()\n",
    "# offsource_caloff_data.plot()\n",
    "# offsource_calon_data.plot()\n"
   ]
  },
  {
   "cell_type": "code",
   "execution_count": 7,
   "id": "760e5715",
   "metadata": {},
   "outputs": [
    {
     "data": {
      "text/plain": [
       "<matplotlib.legend.Legend at 0x20e790b45b0>"
      ]
     },
     "execution_count": 7,
     "metadata": {},
     "output_type": "execute_result"
    }
   ],
   "source": [
    "plt.plot(onsource_calon_data,label='son_con')\n",
    "plt.plot(onsource_caloff_data,label='son_coff')\n",
    "plt.plot(offsource_calon_data,label='soff_con')\n",
    "plt.plot(offsource_caloff_data,label='soff_coff')\n",
    "plt.legend()\n",
    "#it works!"
   ]
  },
  {
   "cell_type": "code",
   "execution_count": 67,
   "id": "0afe0f81",
   "metadata": {},
   "outputs": [
    {
     "data": {
      "text/plain": [
       "'3C286'"
      ]
     },
     "execution_count": 67,
     "metadata": {},
     "output_type": "execute_result"
    }
   ],
   "source": [
    "buh.meta['OBJECT']"
   ]
  },
  {
   "cell_type": "code",
   "execution_count": 10,
   "id": "b54a6554",
   "metadata": {},
   "outputs": [],
   "source": [
    "#metadata\n",
    "\n",
    "num_chan = len(offsource_caloff_data)\n",
    "#need to get frequencies\n",
    "#is there a way to do this without the time average?\n",
    "freqs = np.flip(np.array( uhh.timeaverage().frequency.to(u.MHz) ))\n",
    "\n",
    "onscan_idx = sdfAsum.SCAN.eq(onscan).idxmax()\n",
    "offscan_idx = sdfAsum.SCAN.eq(offscan).idxmax()\n",
    "\n",
    "\n",
    "#need to get source and elevation from the scan?\n",
    "#fluxS_vctr = getFluxCalib(sdfAsum.iloc[onscan_idx]['OBJECT'],freqs)\n",
    "ApEff = getApEff(sdfAsum.iloc[onscan_idx]['ELEVATIO'], freqs)\n",
    "\n",
    "#get MJD of observation for getForecastValues\n",
    "buh = uhh.timeaverage()\n",
    "print(astropy.time.Time(buh.meta['DATE-OBS']).mjd)\n",
    "\n"
   ]
  },
  {
   "cell_type": "code",
   "execution_count": 11,
   "id": "ea3871f9",
   "metadata": {},
   "outputs": [],
   "source": [
    "#uncalibrated Tcal calculations (cal for the cal god)\n",
    "\n",
    "#Find mean/deviation of inner 80%\n",
    "calcounts_onsource=onsource_calon_data-onsource_caloff_data\n",
    "calcounts_offsource=offsource_calon_data-offsource_caloff_data\n",
    "sourcecounts_calon=onsource_calon_data-offsource_calon_data\n",
    "sourcecounts_caloff=onsource_caloff_data-offsource_caloff_data\n",
    "\n",
    "calonsource=calcounts_onsource/sourcecounts_calon\n",
    "caloffsource=calcounts_offsource/sourcecounts_caloff\n",
    "\n",
    "\n",
    "start_idx = int(0.1*num_chan)\n",
    "end_idx = int(0.9*num_chan)\n",
    "\n",
    "\n",
    "meancalonsource=np.nanmean(calonsource[start_idx:end_idx])\n",
    "meancaloffsource=np.nanmean(caloffsource[start_idx:end_idx])\n",
    "sdcalonsource=np.nanstd(calonsource[start_idx:end_idx])\n",
    "sdcaloffsource=np.nanstd(caloffsource[start_idx:end_idx])\n",
    "diffmean=np.abs(((meancalonsource-meancaloffsource)/meancaloffsource)*100.0)\n",
    "diffsd=np.abs(((sdcalonsource-sdcaloffsource)/sdcaloffsource)*100.0)\n",
    "Tcal=(calonsource+caloffsource)/2.0\n",
    "\n",
    "\n"
   ]
  },
  {
   "cell_type": "code",
   "execution_count": 13,
   "id": "eea086d7",
   "metadata": {},
   "outputs": [
    {
     "name": "stdout",
     "output_type": "stream",
     "text": [
      "data is OK to calibrate\n"
     ]
    }
   ],
   "source": [
    "#check that data is ok\n",
    "\n",
    "if (diffmean > 1.0) or (diffsd > 5.0):\n",
    "    print(f\"Difference in means of Off/On scans:          {diffmean}\")\n",
    "    print(f\"Difference in std deviations of Off/On scans: {diffstd}\")\n",
    "    print(\"Differences between On/Off cal measurements are large, this is probably not a good dataset for determining Tcals\")\n",
    "else:\n",
    "    print('data is OK to calibrate')\n"
   ]
  },
  {
   "cell_type": "code",
   "execution_count": 14,
   "id": "dcedd3f7",
   "metadata": {},
   "outputs": [],
   "source": [
    "Tsys_calon=offsource_calon_data/sourcecounts_calon\n",
    "Tsys_caloff=offsource_caloff_data/sourcecounts_caloff\n",
    "\n",
    "#uncalibrated vector Tcal/Tsys:\n",
    "\n",
    "#need to switch these to use sort vector from freqs\n",
    "#can't always guarantee lower sideband\n",
    "Tcal = np.flip(Tcal)\n",
    "Tsys_caloff = np.flip(Tsys_caloff)\n"
   ]
  },
  {
   "cell_type": "code",
   "execution_count": 69,
   "id": "42abf7ee",
   "metadata": {},
   "outputs": [
    {
     "data": {
      "text/plain": [
       "array([3601.46484375, 3602.9296875 , 3604.39453125, ..., 5097.0703125 ,\n",
       "       5098.53515625, 5100.        ])"
      ]
     },
     "execution_count": 69,
     "metadata": {},
     "output_type": "execute_result"
    }
   ],
   "source": [
    "freqs"
   ]
  },
  {
   "cell_type": "code",
   "execution_count": 75,
   "id": "0d7785fb",
   "metadata": {},
   "outputs": [
    {
     "name": "stdout",
     "output_type": "stream",
     "text": [
      "B 1.0430288460832877\n"
     ]
    }
   ],
   "source": [
    "#Calibrating the calibrations!\n",
    "\n",
    "source = buh.meta['OBJECT']\n",
    "fluxS_Vctr = compute_sed(freqs*u.MHz,'Perley-Butler 2017',source)\n",
    "\n",
    "\n",
    "S_to_T = ApEff / 0.352\n",
    "fluxT_Vctr = fluxS_Vctr * S_to_T\n",
    "\n",
    "\n",
    "#these need fluxcalib SED's\n",
    "#can get these from astrofle/groundhog/fluxscales/calibrators.py\n",
    "#which uses one function from bscales.py which uses one function from ../utils.py\n",
    "#so we *could* copy that all over and hope theres no reason any of these functions would change\n",
    "#on smaller than calibrator flux deviation timescales\n",
    "#is pedro's code equivalent to the older gbtidl thing?\n",
    "#thats another whole question which may be worth investigating as an aside\n",
    "\n",
    "\n",
    "TCal_Cal=Tcal*fluxT_Vctr\n",
    "TSys_Cal=Tsys_caloff*fluxT_Vctr\n",
    "\n",
    "#AveEl is average elevation between the on/off scans\n",
    "AveEl = 0.5*(sdfAsum.iloc[onscan_idx]['ELEVATIO'] + sdfAsum.iloc[offscan_idx]['ELEVATIO'])\n",
    "AM=AirMass(AveEl)\n",
    "\n",
    "#string version of coarse frequencies in GHz for opacity corrections (1 MHz resolution)\n",
    "freqFC = (np.arange( np.round(np.max(freqs)-np.min(freqs)) ) + np.min(freqs)) / 1000\n",
    "\n"
   ]
  },
  {
   "cell_type": "code",
   "execution_count": 71,
   "id": "6de64538",
   "metadata": {},
   "outputs": [
    {
     "data": {
      "text/plain": [
       "[<matplotlib.lines.Line2D at 0x20e7e97e0d0>]"
      ]
     },
     "execution_count": 71,
     "metadata": {},
     "output_type": "execute_result"
    }
   ],
   "source": [
    "plt.plot(freqs,fluxS_Vctr)"
   ]
  },
  {
   "cell_type": "code",
   "execution_count": null,
   "id": "e5ef4671",
   "metadata": {},
   "outputs": [],
   "source": [
    "#write out freqFC for getForecastValues on GB systems\n",
    "with open('../freqFC.txt', 'w') as f:\n",
    "    for i in range(len(freqFC)):\n",
    "        f.write(str(freqFC[i])+' ')"
   ]
  },
  {
   "cell_type": "code",
   "execution_count": 57,
   "id": "7a334d26",
   "metadata": {},
   "outputs": [
    {
     "data": {
      "text/plain": [
       "(1024,)"
      ]
     },
     "execution_count": 57,
     "metadata": {},
     "output_type": "execute_result"
    }
   ],
   "source": [
    "tau_file = open('../opacity.txt', 'r')\n",
    "Lines = tau_file.readlines()\n",
    "\n",
    "Taucoarse = []\n",
    "end=-1\n",
    "for i in range(len(Lines)):\n",
    "    start = Lines[i].index('=')+2\n",
    "\n",
    "    Taucoarse.append(float(Lines[i][start:end]))\n",
    "    \n",
    "\n",
    "Taucoarse = np.array(Taucoarse)\n",
    "Tau = np.interp(freqs, freqFC*1000, Taucoarse)"
   ]
  },
  {
   "cell_type": "code",
   "execution_count": 77,
   "id": "d99430d4",
   "metadata": {},
   "outputs": [],
   "source": [
    "TCal_Cal=TCal_Cal/np.exp(Tau*AM)\n",
    "TSys_Cal=TSys_Cal/np.exp(Tau*AM)"
   ]
  },
  {
   "cell_type": "code",
   "execution_count": 80,
   "id": "f81ed68f",
   "metadata": {},
   "outputs": [],
   "source": [
    "#get some more temperatures\n",
    "tsky_file = open('../atmTsys.txt', 'r')\n",
    "Lines = tsky_file.readlines()\n",
    "\n",
    "Tsky_coarse = []\n",
    "end=-1\n",
    "for i in range(len(Lines)):\n",
    "    start = Lines[i].index('=')+2\n",
    "\n",
    "    Tsky_coarse.append(float(Lines[i][start:end]))\n",
    "    \n",
    "\n",
    "Tsky_coarse = np.array(Tsky_coarse)\n",
    "Tsky = np.interp(freqs, freqFC*1000, Tsky_coarse)\n",
    "\n",
    "\n",
    "Tbg = 2.73\n",
    "Tspill = 3.0\n",
    "\n",
    "Trx = TSys_Cal-Tsky-Tbg-Tspill\n"
   ]
  },
  {
   "cell_type": "code",
   "execution_count": 81,
   "id": "d4c84391",
   "metadata": {},
   "outputs": [
    {
     "data": {
      "text/plain": [
       "[<matplotlib.lines.Line2D at 0x20e7e8c00d0>]"
      ]
     },
     "execution_count": 81,
     "metadata": {},
     "output_type": "execute_result"
    }
   ],
   "source": [
    "plt.plot(freqs,TCal_Cal)"
   ]
  },
  {
   "cell_type": "code",
   "execution_count": null,
   "id": "8f1b594a",
   "metadata": {},
   "outputs": [],
   "source": [
    "#getForecastValues from GB filesystem, output to opacity.txt"
   ]
  },
  {
   "cell_type": "code",
   "execution_count": null,
   "id": "065572e3",
   "metadata": {},
   "outputs": [],
   "source": [
    "spawn,'~rmaddale/bin/getForecastValues -type AtmTsys -freqList '+flist+' -elev '+string(AveEl)+' -timeList '+string(!g.s[0].mjd),result\n"
   ]
  },
  {
   "cell_type": "code",
   "execution_count": 79,
   "id": "f71aaf17",
   "metadata": {},
   "outputs": [
    {
     "data": {
      "text/plain": [
       "60143.91439236111"
      ]
     },
     "execution_count": 79,
     "metadata": {},
     "output_type": "execute_result"
    }
   ],
   "source": [
    "clown.mjd"
   ]
  },
  {
   "cell_type": "code",
   "execution_count": null,
   "id": "8e5c87b8",
   "metadata": {},
   "outputs": [],
   "source": []
  },
  {
   "cell_type": "code",
   "execution_count": null,
   "id": "ff2316b4",
   "metadata": {},
   "outputs": [],
   "source": []
  },
  {
   "cell_type": "code",
   "execution_count": null,
   "id": "4d7e6bbe",
   "metadata": {},
   "outputs": [],
   "source": []
  },
  {
   "cell_type": "code",
   "execution_count": null,
   "id": "c09a8cde",
   "metadata": {},
   "outputs": [],
   "source": []
  },
  {
   "cell_type": "code",
   "execution_count": null,
   "id": "05483113",
   "metadata": {},
   "outputs": [],
   "source": []
  },
  {
   "cell_type": "code",
   "execution_count": null,
   "id": "d159682e",
   "metadata": {},
   "outputs": [],
   "source": [
    ";string version of frequencies in GHz. for opacity corrections\n",
    "freqFC=( findgen(round(max(freqs)-min(freqs)) )+min(freqs)+1)/1000.0"
   ]
  },
  {
   "cell_type": "code",
   "execution_count": 129,
   "id": "26256cd8",
   "metadata": {},
   "outputs": [
    {
     "data": {
      "text/plain": [
       "'[3.60146484 3.60246484 3.60346484 ... 5.09746484 5.09846484 5.09946484]'"
      ]
     },
     "execution_count": 129,
     "metadata": {},
     "output_type": "execute_result"
    }
   ],
   "source": [
    "np.array2string(freqFC)\n"
   ]
  },
  {
   "cell_type": "code",
   "execution_count": 113,
   "id": "88fe5766",
   "metadata": {},
   "outputs": [
    {
     "data": {
      "text/plain": [
       "1499.0"
      ]
     },
     "execution_count": 113,
     "metadata": {},
     "output_type": "execute_result"
    }
   ],
   "source": [
    "np.round(np.max(freqs)-np.min(freqs))"
   ]
  },
  {
   "cell_type": "code",
   "execution_count": 119,
   "id": "ccc52d64",
   "metadata": {},
   "outputs": [
    {
     "data": {
      "text/plain": [
       "array([3.60146484, 3.60246484, 3.60346484, ..., 5.09746484, 5.09846484,\n",
       "       5.09946484])"
      ]
     },
     "execution_count": 119,
     "metadata": {},
     "output_type": "execute_result"
    }
   ],
   "source": [
    "(np.arange( np.round(np.max(freqs)-np.min(freqs)) ) + np.min(freqs)) / 1000"
   ]
  },
  {
   "cell_type": "code",
   "execution_count": 118,
   "id": "490e11e1",
   "metadata": {},
   "outputs": [
    {
     "data": {
      "text/plain": [
       "array([3601.46484375, 3602.9296875 , 3604.39453125, ..., 5097.0703125 ,\n",
       "       5098.53515625, 5100.        ])"
      ]
     },
     "execution_count": 118,
     "metadata": {},
     "output_type": "execute_result"
    }
   ],
   "source": [
    "freqs"
   ]
  },
  {
   "cell_type": "code",
   "execution_count": 62,
   "id": "46c4160d",
   "metadata": {
    "scrolled": true
   },
   "outputs": [
    {
     "data": {
      "text/plain": [
       "['__class__',\n",
       " '__delattr__',\n",
       " '__dict__',\n",
       " '__dir__',\n",
       " '__doc__',\n",
       " '__eq__',\n",
       " '__format__',\n",
       " '__ge__',\n",
       " '__getattribute__',\n",
       " '__gt__',\n",
       " '__hash__',\n",
       " '__init__',\n",
       " '__init_subclass__',\n",
       " '__le__',\n",
       " '__len__',\n",
       " '__lt__',\n",
       " '__module__',\n",
       " '__ne__',\n",
       " '__new__',\n",
       " '__reduce__',\n",
       " '__reduce_ex__',\n",
       " '__repr__',\n",
       " '__setattr__',\n",
       " '__sizeof__',\n",
       " '__str__',\n",
       " '__subclasshook__',\n",
       " '__weakref__',\n",
       " '_tsys_weight',\n",
       " 'calc_tsys',\n",
       " 'calstate',\n",
       " 'data',\n",
       " 'delta_freq',\n",
       " 'exposure',\n",
       " 'npol',\n",
       " 'nrows',\n",
       " 'scan',\n",
       " 'sigstate',\n",
       " 'status',\n",
       " 'timeaverage',\n",
       " 'total_power',\n",
       " 'tsys']"
      ]
     },
     "execution_count": 62,
     "metadata": {},
     "output_type": "execute_result"
    }
   ],
   "source": [
    "dir(dysh.spectra.scan.GBTTPScan)"
   ]
  },
  {
   "cell_type": "code",
   "execution_count": 16,
   "id": "d0c68207",
   "metadata": {},
   "outputs": [
    {
     "data": {
      "text/plain": [
       "[207, 211, 215, 219, 223, 227, 231, 235, 239, 243, 247, 251]"
      ]
     },
     "execution_count": 16,
     "metadata": {},
     "output_type": "execute_result"
    }
   ],
   "source": [
    "sdfA.calonoff_rows(11,ifnum=ifnum,plnum=plnum,fdnum=fdnum)['ON']"
   ]
  },
  {
   "cell_type": "code",
   "execution_count": 17,
   "id": "bfba9426",
   "metadata": {},
   "outputs": [
    {
     "name": "stdout",
     "output_type": "stream",
     "text": [
      "TPSCAN nrows = 12\n"
     ]
    },
    {
     "data": {
      "text/plain": [
       "<dysh.spectra.scan.GBTTPScan at 0x1b753846250>"
      ]
     },
     "execution_count": 17,
     "metadata": {},
     "output_type": "execute_result"
    }
   ],
   "source": [
    "sdfA.gettp(11,ifnum=ifnum,plnum=plnum,fdnum=fdnum,cal=True)"
   ]
  },
  {
   "cell_type": "code",
   "execution_count": 131,
   "id": "d2762805",
   "metadata": {},
   "outputs": [
    {
     "data": {
      "text/plain": [
       "5"
      ]
     },
     "execution_count": 131,
     "metadata": {},
     "output_type": "execute_result"
    }
   ],
   "source": [
    "5\n"
   ]
  },
  {
   "cell_type": "code",
   "execution_count": null,
   "id": "c3277722",
   "metadata": {},
   "outputs": [],
   "source": []
  },
  {
   "cell_type": "code",
   "execution_count": null,
   "id": "228b0744",
   "metadata": {},
   "outputs": [],
   "source": []
  },
  {
   "cell_type": "code",
   "execution_count": null,
   "id": "0d2892d7",
   "metadata": {},
   "outputs": [],
   "source": []
  }
 ],
 "metadata": {
  "kernelspec": {
   "display_name": "Python 3 (ipykernel)",
   "language": "python",
   "name": "python3"
  },
  "language_info": {
   "codemirror_mode": {
    "name": "ipython",
    "version": 3
   },
   "file_extension": ".py",
   "mimetype": "text/x-python",
   "name": "python",
   "nbconvert_exporter": "python",
   "pygments_lexer": "ipython3",
   "version": "3.9.12"
  }
 },
 "nbformat": 4,
 "nbformat_minor": 5
}
